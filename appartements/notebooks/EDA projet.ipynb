{
 "cells": [
  {
   "cell_type": "code",
   "execution_count": 2,
   "id": "4296d8e1",
   "metadata": {},
   "outputs": [],
   "source": [
    "import pandas as pd\n",
    "import numpy as np\n",
    "import matplotlib.pyplot as plt\n",
    "%matplotlib inline\n",
    "import seaborn as sns\n",
    "import matplotlib"
   ]
  },
  {
   "cell_type": "code",
   "execution_count": 85,
   "id": "ded1aec1",
   "metadata": {},
   "outputs": [],
   "source": [
    "df = pd.read_csv('cleanup_house.csv',index_col=[0])"
   ]
  },
  {
   "cell_type": "code",
   "execution_count": 86,
   "id": "ee114780",
   "metadata": {},
   "outputs": [
    {
     "data": {
      "text/html": [
       "<div>\n",
       "<style scoped>\n",
       "    .dataframe tbody tr th:only-of-type {\n",
       "        vertical-align: middle;\n",
       "    }\n",
       "\n",
       "    .dataframe tbody tr th {\n",
       "        vertical-align: top;\n",
       "    }\n",
       "\n",
       "    .dataframe thead th {\n",
       "        text-align: right;\n",
       "    }\n",
       "</style>\n",
       "<table border=\"1\" class=\"dataframe\">\n",
       "  <thead>\n",
       "    <tr style=\"text-align: right;\">\n",
       "      <th></th>\n",
       "      <th>Title</th>\n",
       "      <th>Location</th>\n",
       "      <th>Security</th>\n",
       "      <th>Garage</th>\n",
       "      <th>Concierge</th>\n",
       "      <th>Price</th>\n",
       "      <th>City</th>\n",
       "      <th>Currency</th>\n",
       "      <th>Nmbr of rooms</th>\n",
       "      <th>Nmbr of pieces</th>\n",
       "      <th>Nmbr of bathrooms</th>\n",
       "      <th>Newness</th>\n",
       "      <th>Surface</th>\n",
       "    </tr>\n",
       "  </thead>\n",
       "  <tbody>\n",
       "    <tr>\n",
       "      <th>0</th>\n",
       "      <td>Appartement de luxe en Vente Haut Agdal</td>\n",
       "      <td>HautAgdal</td>\n",
       "      <td>0</td>\n",
       "      <td>0</td>\n",
       "      <td>0</td>\n",
       "      <td>4207500.0</td>\n",
       "      <td>Rabat</td>\n",
       "      <td>DH</td>\n",
       "      <td>3.0</td>\n",
       "      <td>6.0</td>\n",
       "      <td>3.0</td>\n",
       "      <td>Bon état</td>\n",
       "      <td>255</td>\n",
       "    </tr>\n",
       "    <tr>\n",
       "      <th>1</th>\n",
       "      <td>Appartement à vendre au RDC</td>\n",
       "      <td>Agdal</td>\n",
       "      <td>0</td>\n",
       "      <td>0</td>\n",
       "      <td>0</td>\n",
       "      <td>3900000.0</td>\n",
       "      <td>Rabat</td>\n",
       "      <td>DH</td>\n",
       "      <td>3.0</td>\n",
       "      <td>6.0</td>\n",
       "      <td>2.0</td>\n",
       "      <td>Bon état</td>\n",
       "      <td>196</td>\n",
       "    </tr>\n",
       "    <tr>\n",
       "      <th>2</th>\n",
       "      <td>Appartement de 99m² avec terrasse en vente, Ré...</td>\n",
       "      <td>Kébibat</td>\n",
       "      <td>0</td>\n",
       "      <td>0</td>\n",
       "      <td>0</td>\n",
       "      <td>NaN</td>\n",
       "      <td>Rabat</td>\n",
       "      <td>NaN</td>\n",
       "      <td>2.0</td>\n",
       "      <td>3.0</td>\n",
       "      <td>2.0</td>\n",
       "      <td>NaN</td>\n",
       "      <td>99</td>\n",
       "    </tr>\n",
       "    <tr>\n",
       "      <th>3</th>\n",
       "      <td>Vente Appartement Rabat Hay Riad</td>\n",
       "      <td>Riyad</td>\n",
       "      <td>0</td>\n",
       "      <td>0</td>\n",
       "      <td>0</td>\n",
       "      <td>2500000.0</td>\n",
       "      <td>Rabat</td>\n",
       "      <td>DH</td>\n",
       "      <td>3.0</td>\n",
       "      <td>5.0</td>\n",
       "      <td>1.0</td>\n",
       "      <td>Bon état</td>\n",
       "      <td>130</td>\n",
       "    </tr>\n",
       "    <tr>\n",
       "      <th>4</th>\n",
       "      <td>Penthouse à vendre à L'orangeraie Souissi 340m2</td>\n",
       "      <td>Souissi</td>\n",
       "      <td>0</td>\n",
       "      <td>0</td>\n",
       "      <td>0</td>\n",
       "      <td>6500000.0</td>\n",
       "      <td>Rabat</td>\n",
       "      <td>DH</td>\n",
       "      <td>4.0</td>\n",
       "      <td>5.0</td>\n",
       "      <td>3.0</td>\n",
       "      <td>Bon état</td>\n",
       "      <td>340</td>\n",
       "    </tr>\n",
       "  </tbody>\n",
       "</table>\n",
       "</div>"
      ],
      "text/plain": [
       "                                               Title   Location  Security  \\\n",
       "0            Appartement de luxe en Vente Haut Agdal  HautAgdal         0   \n",
       "1                        Appartement à vendre au RDC      Agdal         0   \n",
       "2  Appartement de 99m² avec terrasse en vente, Ré...    Kébibat         0   \n",
       "3                   Vente Appartement Rabat Hay Riad      Riyad         0   \n",
       "4    Penthouse à vendre à L'orangeraie Souissi 340m2    Souissi         0   \n",
       "\n",
       "   Garage  Concierge      Price   City Currency  Nmbr of rooms  \\\n",
       "0       0          0  4207500.0  Rabat       DH            3.0   \n",
       "1       0          0  3900000.0  Rabat       DH            3.0   \n",
       "2       0          0        NaN  Rabat      NaN            2.0   \n",
       "3       0          0  2500000.0  Rabat       DH            3.0   \n",
       "4       0          0  6500000.0  Rabat       DH            4.0   \n",
       "\n",
       "   Nmbr of pieces  Nmbr of bathrooms   Newness  Surface  \n",
       "0             6.0                3.0  Bon état      255  \n",
       "1             6.0                2.0  Bon état      196  \n",
       "2             3.0                2.0       NaN       99  \n",
       "3             5.0                1.0  Bon état      130  \n",
       "4             5.0                3.0  Bon état      340  "
      ]
     },
     "execution_count": 86,
     "metadata": {},
     "output_type": "execute_result"
    }
   ],
   "source": [
    "df.head()"
   ]
  },
  {
   "cell_type": "code",
   "execution_count": 87,
   "id": "dd59d39b",
   "metadata": {},
   "outputs": [
    {
     "data": {
      "text/plain": [
       "(7562, 13)"
      ]
     },
     "execution_count": 87,
     "metadata": {},
     "output_type": "execute_result"
    }
   ],
   "source": [
    "df.shape"
   ]
  },
  {
   "cell_type": "code",
   "execution_count": 88,
   "id": "fc075a19",
   "metadata": {},
   "outputs": [
    {
     "data": {
      "text/html": [
       "<div>\n",
       "<style scoped>\n",
       "    .dataframe tbody tr th:only-of-type {\n",
       "        vertical-align: middle;\n",
       "    }\n",
       "\n",
       "    .dataframe tbody tr th {\n",
       "        vertical-align: top;\n",
       "    }\n",
       "\n",
       "    .dataframe thead th {\n",
       "        text-align: right;\n",
       "    }\n",
       "</style>\n",
       "<table border=\"1\" class=\"dataframe\">\n",
       "  <thead>\n",
       "    <tr style=\"text-align: right;\">\n",
       "      <th></th>\n",
       "      <th>Security</th>\n",
       "      <th>Garage</th>\n",
       "      <th>Concierge</th>\n",
       "      <th>Price</th>\n",
       "      <th>Nmbr of rooms</th>\n",
       "      <th>Nmbr of pieces</th>\n",
       "      <th>Nmbr of bathrooms</th>\n",
       "      <th>Surface</th>\n",
       "    </tr>\n",
       "  </thead>\n",
       "  <tbody>\n",
       "    <tr>\n",
       "      <th>count</th>\n",
       "      <td>7562.000000</td>\n",
       "      <td>7562.000000</td>\n",
       "      <td>7562.00000</td>\n",
       "      <td>6.259000e+03</td>\n",
       "      <td>7413.000000</td>\n",
       "      <td>7421.000000</td>\n",
       "      <td>7236.000000</td>\n",
       "      <td>7562.000000</td>\n",
       "    </tr>\n",
       "    <tr>\n",
       "      <th>mean</th>\n",
       "      <td>0.030547</td>\n",
       "      <td>0.017323</td>\n",
       "      <td>0.01653</td>\n",
       "      <td>3.206828e+06</td>\n",
       "      <td>3.196682</td>\n",
       "      <td>4.817680</td>\n",
       "      <td>2.407960</td>\n",
       "      <td>334.759852</td>\n",
       "    </tr>\n",
       "    <tr>\n",
       "      <th>std</th>\n",
       "      <td>0.172100</td>\n",
       "      <td>0.130482</td>\n",
       "      <td>0.12751</td>\n",
       "      <td>6.564920e+06</td>\n",
       "      <td>1.895447</td>\n",
       "      <td>2.795364</td>\n",
       "      <td>1.664114</td>\n",
       "      <td>1050.479494</td>\n",
       "    </tr>\n",
       "    <tr>\n",
       "      <th>min</th>\n",
       "      <td>0.000000</td>\n",
       "      <td>0.000000</td>\n",
       "      <td>0.00000</td>\n",
       "      <td>7.000000e+03</td>\n",
       "      <td>1.000000</td>\n",
       "      <td>1.000000</td>\n",
       "      <td>1.000000</td>\n",
       "      <td>12.000000</td>\n",
       "    </tr>\n",
       "    <tr>\n",
       "      <th>25%</th>\n",
       "      <td>0.000000</td>\n",
       "      <td>0.000000</td>\n",
       "      <td>0.00000</td>\n",
       "      <td>7.895000e+05</td>\n",
       "      <td>2.000000</td>\n",
       "      <td>3.000000</td>\n",
       "      <td>1.000000</td>\n",
       "      <td>83.000000</td>\n",
       "    </tr>\n",
       "    <tr>\n",
       "      <th>50%</th>\n",
       "      <td>0.000000</td>\n",
       "      <td>0.000000</td>\n",
       "      <td>0.00000</td>\n",
       "      <td>1.550000e+06</td>\n",
       "      <td>3.000000</td>\n",
       "      <td>4.000000</td>\n",
       "      <td>2.000000</td>\n",
       "      <td>120.000000</td>\n",
       "    </tr>\n",
       "    <tr>\n",
       "      <th>75%</th>\n",
       "      <td>0.000000</td>\n",
       "      <td>0.000000</td>\n",
       "      <td>0.00000</td>\n",
       "      <td>3.212500e+06</td>\n",
       "      <td>4.000000</td>\n",
       "      <td>6.000000</td>\n",
       "      <td>3.000000</td>\n",
       "      <td>220.000000</td>\n",
       "    </tr>\n",
       "    <tr>\n",
       "      <th>max</th>\n",
       "      <td>1.000000</td>\n",
       "      <td>1.000000</td>\n",
       "      <td>1.00000</td>\n",
       "      <td>2.200000e+08</td>\n",
       "      <td>50.000000</td>\n",
       "      <td>36.000000</td>\n",
       "      <td>34.000000</td>\n",
       "      <td>25000.000000</td>\n",
       "    </tr>\n",
       "  </tbody>\n",
       "</table>\n",
       "</div>"
      ],
      "text/plain": [
       "          Security       Garage   Concierge         Price  Nmbr of rooms  \\\n",
       "count  7562.000000  7562.000000  7562.00000  6.259000e+03    7413.000000   \n",
       "mean      0.030547     0.017323     0.01653  3.206828e+06       3.196682   \n",
       "std       0.172100     0.130482     0.12751  6.564920e+06       1.895447   \n",
       "min       0.000000     0.000000     0.00000  7.000000e+03       1.000000   \n",
       "25%       0.000000     0.000000     0.00000  7.895000e+05       2.000000   \n",
       "50%       0.000000     0.000000     0.00000  1.550000e+06       3.000000   \n",
       "75%       0.000000     0.000000     0.00000  3.212500e+06       4.000000   \n",
       "max       1.000000     1.000000     1.00000  2.200000e+08      50.000000   \n",
       "\n",
       "       Nmbr of pieces  Nmbr of bathrooms       Surface  \n",
       "count     7421.000000        7236.000000   7562.000000  \n",
       "mean         4.817680           2.407960    334.759852  \n",
       "std          2.795364           1.664114   1050.479494  \n",
       "min          1.000000           1.000000     12.000000  \n",
       "25%          3.000000           1.000000     83.000000  \n",
       "50%          4.000000           2.000000    120.000000  \n",
       "75%          6.000000           3.000000    220.000000  \n",
       "max         36.000000          34.000000  25000.000000  "
      ]
     },
     "execution_count": 88,
     "metadata": {},
     "output_type": "execute_result"
    }
   ],
   "source": [
    "df.describe()"
   ]
  },
  {
   "cell_type": "code",
   "execution_count": 89,
   "id": "29ac5052",
   "metadata": {},
   "outputs": [
    {
     "name": "stdout",
     "output_type": "stream",
     "text": [
      "<class 'pandas.core.frame.DataFrame'>\n",
      "Int64Index: 7562 entries, 0 to 7562\n",
      "Data columns (total 13 columns):\n",
      " #   Column             Non-Null Count  Dtype  \n",
      "---  ------             --------------  -----  \n",
      " 0   Title              7562 non-null   object \n",
      " 1   Location           7562 non-null   object \n",
      " 2   Security           7562 non-null   int64  \n",
      " 3   Garage             7562 non-null   int64  \n",
      " 4   Concierge          7562 non-null   int64  \n",
      " 5   Price              6259 non-null   float64\n",
      " 6   City               7562 non-null   object \n",
      " 7   Currency           6259 non-null   object \n",
      " 8   Nmbr of rooms      7413 non-null   float64\n",
      " 9   Nmbr of pieces     7421 non-null   float64\n",
      " 10  Nmbr of bathrooms  7236 non-null   float64\n",
      " 11  Newness            6688 non-null   object \n",
      " 12  Surface            7562 non-null   int64  \n",
      "dtypes: float64(4), int64(4), object(5)\n",
      "memory usage: 827.1+ KB\n"
     ]
    }
   ],
   "source": [
    "df.info()"
   ]
  },
  {
   "cell_type": "markdown",
   "id": "42dfb9a9",
   "metadata": {},
   "source": [
    "## Dealing with missing values"
   ]
  },
  {
   "cell_type": "code",
   "execution_count": 90,
   "id": "2af94f23",
   "metadata": {},
   "outputs": [
    {
     "data": {
      "text/plain": [
       "Title                   0\n",
       "Location                0\n",
       "Security                0\n",
       "Garage                  0\n",
       "Concierge               0\n",
       "Price                1303\n",
       "City                    0\n",
       "Currency             1303\n",
       "Nmbr of rooms         149\n",
       "Nmbr of pieces        141\n",
       "Nmbr of bathrooms     326\n",
       "Newness               874\n",
       "Surface                 0\n",
       "dtype: int64"
      ]
     },
     "execution_count": 90,
     "metadata": {},
     "output_type": "execute_result"
    }
   ],
   "source": [
    "df.isnull().sum()"
   ]
  },
  {
   "cell_type": "code",
   "execution_count": 91,
   "id": "9d1f7513",
   "metadata": {},
   "outputs": [
    {
     "name": "stdout",
     "output_type": "stream",
     "text": [
      "Price have 0.1723 missing values\n",
      "Currency have 0.1723 missing values\n",
      "Nmbr of rooms have 0.0197 missing values\n",
      "Nmbr of pieces have 0.0186 missing values\n",
      "Nmbr of bathrooms have 0.0431 missing values\n",
      "Newness have 0.1156 missing values\n"
     ]
    }
   ],
   "source": [
    "features_with_na = [features for features in df.columns if df[features].isnull().sum()]\n",
    "for feature in features_with_na:\n",
    "    print(f'{feature} have {np.round(df[feature].isnull().mean(),4)} missing values')"
   ]
  },
  {
   "cell_type": "code",
   "execution_count": 92,
   "id": "e757c54c",
   "metadata": {},
   "outputs": [
    {
     "data": {
      "text/plain": [
       "array([ 3.,  2.,  4.,  6.,  5.,  1., 13.,  7.,  8.,  9., 10., nan, 11.,\n",
       "       16., 14., 50., 15., 12., 36., 23., 21., 18., 22., 34.])"
      ]
     },
     "execution_count": 92,
     "metadata": {},
     "output_type": "execute_result"
    }
   ],
   "source": [
    "df['Nmbr of rooms'].unique()"
   ]
  },
  {
   "cell_type": "code",
   "execution_count": 93,
   "id": "e40deb89",
   "metadata": {},
   "outputs": [
    {
     "data": {
      "text/plain": [
       "2.0     2448\n",
       "3.0     2397\n",
       "4.0      956\n",
       "5.0      501\n",
       "1.0      476\n",
       "6.0      270\n",
       "7.0      166\n",
       "8.0       99\n",
       "10.0      28\n",
       "9.0       22\n",
       "12.0      14\n",
       "11.0      13\n",
       "14.0       5\n",
       "13.0       4\n",
       "16.0       3\n",
       "15.0       3\n",
       "23.0       2\n",
       "50.0       1\n",
       "36.0       1\n",
       "21.0       1\n",
       "18.0       1\n",
       "22.0       1\n",
       "34.0       1\n",
       "Name: Nmbr of rooms, dtype: int64"
      ]
     },
     "execution_count": 93,
     "metadata": {},
     "output_type": "execute_result"
    }
   ],
   "source": [
    "df['Nmbr of rooms'].value_counts()"
   ]
  },
  {
   "cell_type": "code",
   "execution_count": 94,
   "id": "c09def98",
   "metadata": {},
   "outputs": [],
   "source": [
    "## fill the null values with mode in discret variables\n",
    "df['Nmbr of rooms'] = df['Nmbr of rooms'].fillna(df['Nmbr of rooms'].mode()[0])\n",
    "df['Nmbr of pieces'] = df['Nmbr of pieces'].fillna(df['Nmbr of pieces'].mode()[0])\n",
    "df['Nmbr of bathrooms'] = df['Nmbr of bathrooms'].fillna(df['Nmbr of bathrooms'].mode()[0])"
   ]
  },
  {
   "cell_type": "code",
   "execution_count": 95,
   "id": "8fcd664d",
   "metadata": {},
   "outputs": [
    {
     "data": {
      "text/plain": [
       "Title                   0\n",
       "Location                0\n",
       "Security                0\n",
       "Garage                  0\n",
       "Concierge               0\n",
       "Price                1303\n",
       "City                    0\n",
       "Currency             1303\n",
       "Nmbr of rooms           0\n",
       "Nmbr of pieces          0\n",
       "Nmbr of bathrooms       0\n",
       "Newness               874\n",
       "Surface                 0\n",
       "dtype: int64"
      ]
     },
     "execution_count": 95,
     "metadata": {},
     "output_type": "execute_result"
    }
   ],
   "source": [
    "df.isnull().sum()"
   ]
  },
  {
   "cell_type": "code",
   "execution_count": 96,
   "id": "d28d0510",
   "metadata": {},
   "outputs": [
    {
     "data": {
      "text/plain": [
       "array(['Bon état', nan, 'Nouveau', 'À rénover'], dtype=object)"
      ]
     },
     "execution_count": 96,
     "metadata": {},
     "output_type": "execute_result"
    }
   ],
   "source": [
    "df['Newness'].unique()"
   ]
  },
  {
   "cell_type": "code",
   "execution_count": 97,
   "id": "bca42c87",
   "metadata": {},
   "outputs": [
    {
     "data": {
      "text/plain": [
       "Bon état     3856\n",
       "Nouveau      2541\n",
       "À rénover     291\n",
       "Name: Newness, dtype: int64"
      ]
     },
     "execution_count": 97,
     "metadata": {},
     "output_type": "execute_result"
    }
   ],
   "source": [
    "df['Newness'].value_counts()"
   ]
  },
  {
   "cell_type": "code",
   "execution_count": 98,
   "id": "b3453bba",
   "metadata": {},
   "outputs": [],
   "source": [
    "df['Newness'] = df['Newness'].fillna(df['Newness'].mode()[0])"
   ]
  },
  {
   "cell_type": "code",
   "execution_count": 99,
   "id": "1e48e60e",
   "metadata": {},
   "outputs": [
    {
     "data": {
      "text/plain": [
       "Title                   0\n",
       "Location                0\n",
       "Security                0\n",
       "Garage                  0\n",
       "Concierge               0\n",
       "Price                1303\n",
       "City                    0\n",
       "Currency             1303\n",
       "Nmbr of rooms           0\n",
       "Nmbr of pieces          0\n",
       "Nmbr of bathrooms       0\n",
       "Newness                 0\n",
       "Surface                 0\n",
       "dtype: int64"
      ]
     },
     "execution_count": 99,
     "metadata": {},
     "output_type": "execute_result"
    }
   ],
   "source": [
    "df.isnull().sum()"
   ]
  },
  {
   "cell_type": "markdown",
   "id": "c2561e6a",
   "metadata": {},
   "source": [
    "##### formation variables"
   ]
  },
  {
   "cell_type": "code",
   "execution_count": 101,
   "id": "9cd3bb71",
   "metadata": {
    "scrolled": true
   },
   "outputs": [
    {
     "name": "stdout",
     "output_type": "stream",
     "text": [
      "<class 'pandas.core.frame.DataFrame'>\n",
      "Int64Index: 7562 entries, 0 to 7562\n",
      "Data columns (total 13 columns):\n",
      " #   Column             Non-Null Count  Dtype  \n",
      "---  ------             --------------  -----  \n",
      " 0   Title              7562 non-null   object \n",
      " 1   Location           7562 non-null   object \n",
      " 2   Security           7562 non-null   int64  \n",
      " 3   Garage             7562 non-null   int64  \n",
      " 4   Concierge          7562 non-null   int64  \n",
      " 5   Price              6259 non-null   float64\n",
      " 6   City               7562 non-null   object \n",
      " 7   Currency           6259 non-null   object \n",
      " 8   Nmbr of rooms      7562 non-null   float64\n",
      " 9   Nmbr of pieces     7562 non-null   float64\n",
      " 10  Nmbr of bathrooms  7562 non-null   float64\n",
      " 11  Newness            7562 non-null   object \n",
      " 12  Surface            7562 non-null   int32  \n",
      "dtypes: float64(4), int32(1), int64(3), object(5)\n",
      "memory usage: 797.6+ KB\n"
     ]
    }
   ],
   "source": [
    "df.info()"
   ]
  },
  {
   "cell_type": "code",
   "execution_count": 100,
   "id": "b36226f8",
   "metadata": {},
   "outputs": [],
   "source": [
    "df[\"Surface\"] = df[\"Surface\"].astype(int)"
   ]
  },
  {
   "cell_type": "markdown",
   "id": "edc6a830",
   "metadata": {},
   "source": [
    "###### detection outliers"
   ]
  },
  {
   "cell_type": "code",
   "execution_count": 102,
   "id": "a0bb9a2b",
   "metadata": {},
   "outputs": [
    {
     "data": {
      "image/png": "[encoded data removed]",
      "text/plain": [
       "<Figure size 864x432 with 1 Axes>"
      ]
     },
     "metadata": {
      "needs_background": "light"
     },
     "output_type": "display_data"
    }
   ],
   "source": [
    "# number outliers rooms\n",
    "import matplotlib\n",
    "matplotlib.rcParams['figure.figsize'] = (12,6)\n",
    "green_diamond = dict(markerfacecolor='g', marker='D')\n",
    "fig3, ax3 = plt.subplots()\n",
    "ax3.set_title('Changed Outlier Symbols')\n",
    "ax3.boxplot(df['Nmbr of rooms'], flierprops=green_diamond)\n",
    "plt.show()"
   ]
  },
  {
   "cell_type": "code",
   "execution_count": 103,
   "id": "d431b4cd",
   "metadata": {},
   "outputs": [
    {
     "data": {
      "image/png": "[encoded data removed]",
      "text/plain": [
       "<Figure size 864x432 with 1 Axes>"
      ]
     },
     "metadata": {
      "needs_background": "light"
     },
     "output_type": "display_data"
    }
   ],
   "source": [
    "# number of bathrooms\n",
    "green_diamond = dict(markerfacecolor='g', marker='D')\n",
    "fig3, ax3 = plt.subplots()\n",
    "ax3.set_title('Changed Outlier Symbols')\n",
    "ax3.boxplot(df['Nmbr of bathrooms'], flierprops=green_diamond)\n",
    "plt.show()"
   ]
  },
  {
   "cell_type": "code",
   "execution_count": 104,
   "id": "169923c1",
   "metadata": {},
   "outputs": [
    {
     "data": {
      "image/png": "[encoded data removed]",
      "text/plain": [
       "<Figure size 864x432 with 1 Axes>"
      ]
     },
     "metadata": {
      "needs_background": "light"
     },
     "output_type": "display_data"
    }
   ],
   "source": [
    "# Nmbr of pieces\n",
    "green_diamond = dict(markerfacecolor='g', marker='D')\n",
    "fig3, ax3 = plt.subplots()\n",
    "ax3.set_title('Changed Outlier Symbols')\n",
    "ax3.boxplot(df['Nmbr of pieces'], flierprops=green_diamond)\n",
    "plt.show()"
   ]
  },
  {
   "cell_type": "code",
   "execution_count": 105,
   "id": "0a04bb1a",
   "metadata": {
    "scrolled": true
   },
   "outputs": [
    {
     "data": {
      "image/png": "[encoded data removed]",
      "text/plain": [
       "<Figure size 864x432 with 1 Axes>"
      ]
     },
     "metadata": {
      "needs_background": "light"
     },
     "output_type": "display_data"
    }
   ],
   "source": [
    "# surface\n",
    "green_diamond = dict(markerfacecolor='g', marker='D')\n",
    "fig3, ax3 = plt.subplots()\n",
    "ax3.set_title('Changed Outlier Symbols')\n",
    "ax3.boxplot(df['Surface'], flierprops=green_diamond)\n",
    "plt.show()"
   ]
  },
  {
   "cell_type": "code",
   "execution_count": 106,
   "id": "fdd94bb4",
   "metadata": {},
   "outputs": [
    {
     "name": "stdout",
     "output_type": "stream",
     "text": [
      "137.0\n"
     ]
    }
   ],
   "source": [
    "Q1 = df['Surface'].quantile(0.25)\n",
    "Q3 = df['Surface'].quantile(0.75)\n",
    "IQR = Q3 - Q1\n",
    "print(IQR)"
   ]
  },
  {
   "cell_type": "code",
   "execution_count": 108,
   "id": "e80d803c",
   "metadata": {},
   "outputs": [],
   "source": [
    "df_outliers_surface = (df['Surface'] < (Q1 - 1.5 * IQR)) |(df['Surface'] > (Q3 + 1.5 * IQR))"
   ]
  },
  {
   "cell_type": "code",
   "execution_count": 110,
   "id": "e070ec85",
   "metadata": {},
   "outputs": [
    {
     "data": {
      "text/plain": [
       "False    6509\n",
       "True     1053\n",
       "Name: Surface, dtype: int64"
      ]
     },
     "execution_count": 110,
     "metadata": {},
     "output_type": "execute_result"
    }
   ],
   "source": [
    "df_outliers_surface.value_counts()"
   ]
  },
  {
   "cell_type": "markdown",
   "id": "0d888fe7",
   "metadata": {},
   "source": [
    "# Visualitation"
   ]
  },
  {
   "cell_type": "code",
   "execution_count": 3,
   "id": "d78e3f03",
   "metadata": {},
   "outputs": [
    {
     "data": {
      "text/plain": [
       "Index(['Title', 'Location', 'Security', 'Garage', 'Concierge', 'Price', 'City',\n",
       "       'Currency', 'Nmbr of rooms', 'Nmbr of pieces', 'Nmbr of bathrooms',\n",
       "       'Newness', 'Surface'],\n",
       "      dtype='object')"
      ]
     },
     "execution_count": 3,
     "metadata": {},
     "output_type": "execute_result"
    }
   ],
   "source": [
    "df.columns"
   ]
  },
  {
   "cell_type": "code",
   "execution_count": 26,
   "id": "917dae8f",
   "metadata": {
    "scrolled": true
   },
   "outputs": [
    {
     "data": {
      "text/plain": [
       "Nmbr of rooms\n",
       "3     732\n",
       "2     676\n",
       "4     346\n",
       "5     186\n",
       "1     163\n",
       "6     102\n",
       "7      44\n",
       "8      23\n",
       "10     14\n",
       "9       8\n",
       "12      7\n",
       "11      3\n",
       "14      2\n",
       "13      1\n",
       "15      1\n",
       "18      1\n",
       "23      1\n",
       "36      1\n",
       "dtype: int64"
      ]
     },
     "execution_count": 26,
     "metadata": {},
     "output_type": "execute_result"
    }
   ],
   "source": [
    "df.groupby(['Nmbr of rooms']).size().sort_values(ascending=False)"
   ]
  },
  {
   "cell_type": "code",
   "execution_count": 29,
   "id": "6fe87c63",
   "metadata": {},
   "outputs": [],
   "source": [
    "rooms_values = df['Nmbr of rooms'].value_counts().values"
   ]
  },
  {
   "cell_type": "code",
   "execution_count": 31,
   "id": "bd85e72b",
   "metadata": {},
   "outputs": [],
   "source": [
    "rooms_number = df['Nmbr of rooms'].value_counts().index"
   ]
  },
  {
   "cell_type": "code",
   "execution_count": 34,
   "id": "1f9847b5",
   "metadata": {},
   "outputs": [
    {
     "data": {
      "image/png": "[encoded data removed]",
      "text/plain": [
       "<Figure size 864x432 with 1 Axes>"
      ]
     },
     "metadata": {},
     "output_type": "display_data"
    }
   ],
   "source": [
    "plt.pie(rooms_values[:5],labels=rooms_number[:5],autopct='%1.2f%%')\n",
    "plt.show()"
   ]
  },
  {
   "cell_type": "code",
   "execution_count": 5,
   "id": "025a1925",
   "metadata": {},
   "outputs": [
    {
     "data": {
      "text/plain": [
       "Index(['Title', 'Location', 'Security', 'Garage', 'Concierge', 'Price', 'City',\n",
       "       'Currency', 'Nmbr of rooms', 'Nmbr of pieces', 'Nmbr of bathrooms',\n",
       "       'Newness', 'Surface'],\n",
       "      dtype='object')"
      ]
     },
     "execution_count": 5,
     "metadata": {},
     "output_type": "execute_result"
    }
   ],
   "source": [
    "df.columns"
   ]
  },
  {
   "cell_type": "code",
   "execution_count": 3,
   "id": "10ee0db4",
   "metadata": {},
   "outputs": [],
   "source": [
    "Rooms_City_count = df.groupby(['Nmbr of rooms','City']).size().reset_index().rename(columns={0:'Rooms Count'})"
   ]
  },
  {
   "cell_type": "code",
   "execution_count": 24,
   "id": "b7f04ec1",
   "metadata": {},
   "outputs": [],
   "source": [
    "Rooms_City_count_agadir = Rooms_City_count.loc[(Rooms_City_count['City'] == 'Agadir')]"
   ]
  },
  {
   "cell_type": "code",
   "execution_count": 32,
   "id": "9d287677",
   "metadata": {},
   "outputs": [
    {
     "data": {
      "text/html": [
       "<div>\n",
       "<style scoped>\n",
       "    .dataframe tbody tr th:only-of-type {\n",
       "        vertical-align: middle;\n",
       "    }\n",
       "\n",
       "    .dataframe tbody tr th {\n",
       "        vertical-align: top;\n",
       "    }\n",
       "\n",
       "    .dataframe thead th {\n",
       "        text-align: right;\n",
       "    }\n",
       "</style>\n",
       "<table border=\"1\" class=\"dataframe\">\n",
       "  <thead>\n",
       "    <tr style=\"text-align: right;\">\n",
       "      <th></th>\n",
       "      <th>Nmbr of rooms</th>\n",
       "      <th>City</th>\n",
       "      <th>Rooms Count</th>\n",
       "    </tr>\n",
       "  </thead>\n",
       "  <tbody>\n",
       "    <tr>\n",
       "      <th>0</th>\n",
       "      <td>1</td>\n",
       "      <td>Agadir</td>\n",
       "      <td>52</td>\n",
       "    </tr>\n",
       "    <tr>\n",
       "      <th>5</th>\n",
       "      <td>2</td>\n",
       "      <td>Agadir</td>\n",
       "      <td>186</td>\n",
       "    </tr>\n",
       "    <tr>\n",
       "      <th>10</th>\n",
       "      <td>3</td>\n",
       "      <td>Agadir</td>\n",
       "      <td>106</td>\n",
       "    </tr>\n",
       "    <tr>\n",
       "      <th>15</th>\n",
       "      <td>4</td>\n",
       "      <td>Agadir</td>\n",
       "      <td>68</td>\n",
       "    </tr>\n",
       "    <tr>\n",
       "      <th>20</th>\n",
       "      <td>5</td>\n",
       "      <td>Agadir</td>\n",
       "      <td>38</td>\n",
       "    </tr>\n",
       "    <tr>\n",
       "      <th>25</th>\n",
       "      <td>6</td>\n",
       "      <td>Agadir</td>\n",
       "      <td>18</td>\n",
       "    </tr>\n",
       "    <tr>\n",
       "      <th>30</th>\n",
       "      <td>7</td>\n",
       "      <td>Agadir</td>\n",
       "      <td>7</td>\n",
       "    </tr>\n",
       "    <tr>\n",
       "      <th>35</th>\n",
       "      <td>8</td>\n",
       "      <td>Agadir</td>\n",
       "      <td>3</td>\n",
       "    </tr>\n",
       "    <tr>\n",
       "      <th>40</th>\n",
       "      <td>9</td>\n",
       "      <td>Agadir</td>\n",
       "      <td>2</td>\n",
       "    </tr>\n",
       "    <tr>\n",
       "      <th>44</th>\n",
       "      <td>10</td>\n",
       "      <td>Agadir</td>\n",
       "      <td>5</td>\n",
       "    </tr>\n",
       "    <tr>\n",
       "      <th>50</th>\n",
       "      <td>12</td>\n",
       "      <td>Agadir</td>\n",
       "      <td>1</td>\n",
       "    </tr>\n",
       "    <tr>\n",
       "      <th>56</th>\n",
       "      <td>18</td>\n",
       "      <td>Agadir</td>\n",
       "      <td>1</td>\n",
       "    </tr>\n",
       "  </tbody>\n",
       "</table>\n",
       "</div>"
      ],
      "text/plain": [
       "    Nmbr of rooms    City  Rooms Count\n",
       "0               1  Agadir           52\n",
       "5               2  Agadir          186\n",
       "10              3  Agadir          106\n",
       "15              4  Agadir           68\n",
       "20              5  Agadir           38\n",
       "25              6  Agadir           18\n",
       "30              7  Agadir            7\n",
       "35              8  Agadir            3\n",
       "40              9  Agadir            2\n",
       "44             10  Agadir            5\n",
       "50             12  Agadir            1\n",
       "56             18  Agadir            1"
      ]
     },
     "execution_count": 32,
     "metadata": {},
     "output_type": "execute_result"
    }
   ],
   "source": [
    "Rooms_City_count_agadir"
   ]
  },
  {
   "cell_type": "code",
   "execution_count": 37,
   "id": "76f2d08b",
   "metadata": {},
   "outputs": [
    {
     "data": {
      "text/plain": [
       "<AxesSubplot:xlabel='Nmbr of rooms', ylabel='Rooms Count'>"
      ]
     },
     "execution_count": 37,
     "metadata": {},
     "output_type": "execute_result"
    },
    {
     "data": {
      "image/png": "[encoded data removed]",
      "text/plain": [
       "<Figure size 432x288 with 1 Axes>"
      ]
     },
     "metadata": {
      "needs_background": "light"
     },
     "output_type": "display_data"
    }
   ],
   "source": [
    "sns.barplot(data=Rooms_City_count_agadir,x='Nmbr of rooms',y='Rooms Count')"
   ]
  },
  {
   "cell_type": "code",
   "execution_count": 38,
   "id": "1dc1df3a",
   "metadata": {},
   "outputs": [
    {
     "data": {
      "text/plain": [
       "<AxesSubplot:xlabel='Nmbr of rooms', ylabel='Rooms Count'>"
      ]
     },
     "execution_count": 38,
     "metadata": {},
     "output_type": "execute_result"
    },
    {
     "data": {
      "image/png": "[encoded data removed]",
      "text/plain": [
       "<Figure size 432x288 with 1 Axes>"
      ]
     },
     "metadata": {
      "needs_background": "light"
     },
     "output_type": "display_data"
    }
   ],
   "source": [
    "Rooms_City_count_rabat = Rooms_City_count.loc[(Rooms_City_count['City'] == 'Rabat')]\n",
    "sns.barplot(data=Rooms_City_count_rabat,x='Nmbr of rooms',y='Rooms Count')"
   ]
  },
  {
   "cell_type": "code",
   "execution_count": 4,
   "id": "190c2819",
   "metadata": {},
   "outputs": [
    {
     "data": {
      "text/html": [
       "<div>\n",
       "<style scoped>\n",
       "    .dataframe tbody tr th:only-of-type {\n",
       "        vertical-align: middle;\n",
       "    }\n",
       "\n",
       "    .dataframe tbody tr th {\n",
       "        vertical-align: top;\n",
       "    }\n",
       "\n",
       "    .dataframe thead th {\n",
       "        text-align: right;\n",
       "    }\n",
       "</style>\n",
       "<table border=\"1\" class=\"dataframe\">\n",
       "  <thead>\n",
       "    <tr style=\"text-align: right;\">\n",
       "      <th></th>\n",
       "      <th>Nmbr of rooms</th>\n",
       "      <th>City</th>\n",
       "      <th>Rooms Count</th>\n",
       "    </tr>\n",
       "  </thead>\n",
       "  <tbody>\n",
       "    <tr>\n",
       "      <th>0</th>\n",
       "      <td>1</td>\n",
       "      <td>Agadir</td>\n",
       "      <td>52</td>\n",
       "    </tr>\n",
       "    <tr>\n",
       "      <th>1</th>\n",
       "      <td>1</td>\n",
       "      <td>Casablanca</td>\n",
       "      <td>38</td>\n",
       "    </tr>\n",
       "    <tr>\n",
       "      <th>2</th>\n",
       "      <td>1</td>\n",
       "      <td>Fès</td>\n",
       "      <td>7</td>\n",
       "    </tr>\n",
       "    <tr>\n",
       "      <th>3</th>\n",
       "      <td>1</td>\n",
       "      <td>Marrakech</td>\n",
       "      <td>42</td>\n",
       "    </tr>\n",
       "    <tr>\n",
       "      <th>4</th>\n",
       "      <td>1</td>\n",
       "      <td>Rabat</td>\n",
       "      <td>24</td>\n",
       "    </tr>\n",
       "    <tr>\n",
       "      <th>5</th>\n",
       "      <td>2</td>\n",
       "      <td>Agadir</td>\n",
       "      <td>186</td>\n",
       "    </tr>\n",
       "    <tr>\n",
       "      <th>6</th>\n",
       "      <td>2</td>\n",
       "      <td>Casablanca</td>\n",
       "      <td>163</td>\n",
       "    </tr>\n",
       "    <tr>\n",
       "      <th>7</th>\n",
       "      <td>2</td>\n",
       "      <td>Fès</td>\n",
       "      <td>145</td>\n",
       "    </tr>\n",
       "    <tr>\n",
       "      <th>8</th>\n",
       "      <td>2</td>\n",
       "      <td>Marrakech</td>\n",
       "      <td>113</td>\n",
       "    </tr>\n",
       "    <tr>\n",
       "      <th>9</th>\n",
       "      <td>2</td>\n",
       "      <td>Rabat</td>\n",
       "      <td>69</td>\n",
       "    </tr>\n",
       "    <tr>\n",
       "      <th>10</th>\n",
       "      <td>3</td>\n",
       "      <td>Agadir</td>\n",
       "      <td>106</td>\n",
       "    </tr>\n",
       "    <tr>\n",
       "      <th>11</th>\n",
       "      <td>3</td>\n",
       "      <td>Casablanca</td>\n",
       "      <td>168</td>\n",
       "    </tr>\n",
       "    <tr>\n",
       "      <th>12</th>\n",
       "      <td>3</td>\n",
       "      <td>Fès</td>\n",
       "      <td>193</td>\n",
       "    </tr>\n",
       "    <tr>\n",
       "      <th>13</th>\n",
       "      <td>3</td>\n",
       "      <td>Marrakech</td>\n",
       "      <td>89</td>\n",
       "    </tr>\n",
       "    <tr>\n",
       "      <th>14</th>\n",
       "      <td>3</td>\n",
       "      <td>Rabat</td>\n",
       "      <td>176</td>\n",
       "    </tr>\n",
       "    <tr>\n",
       "      <th>15</th>\n",
       "      <td>4</td>\n",
       "      <td>Agadir</td>\n",
       "      <td>68</td>\n",
       "    </tr>\n",
       "    <tr>\n",
       "      <th>16</th>\n",
       "      <td>4</td>\n",
       "      <td>Casablanca</td>\n",
       "      <td>54</td>\n",
       "    </tr>\n",
       "    <tr>\n",
       "      <th>17</th>\n",
       "      <td>4</td>\n",
       "      <td>Fès</td>\n",
       "      <td>40</td>\n",
       "    </tr>\n",
       "    <tr>\n",
       "      <th>18</th>\n",
       "      <td>4</td>\n",
       "      <td>Marrakech</td>\n",
       "      <td>91</td>\n",
       "    </tr>\n",
       "    <tr>\n",
       "      <th>19</th>\n",
       "      <td>4</td>\n",
       "      <td>Rabat</td>\n",
       "      <td>93</td>\n",
       "    </tr>\n",
       "    <tr>\n",
       "      <th>20</th>\n",
       "      <td>5</td>\n",
       "      <td>Agadir</td>\n",
       "      <td>38</td>\n",
       "    </tr>\n",
       "    <tr>\n",
       "      <th>21</th>\n",
       "      <td>5</td>\n",
       "      <td>Casablanca</td>\n",
       "      <td>16</td>\n",
       "    </tr>\n",
       "    <tr>\n",
       "      <th>22</th>\n",
       "      <td>5</td>\n",
       "      <td>Fès</td>\n",
       "      <td>12</td>\n",
       "    </tr>\n",
       "    <tr>\n",
       "      <th>23</th>\n",
       "      <td>5</td>\n",
       "      <td>Marrakech</td>\n",
       "      <td>57</td>\n",
       "    </tr>\n",
       "    <tr>\n",
       "      <th>24</th>\n",
       "      <td>5</td>\n",
       "      <td>Rabat</td>\n",
       "      <td>63</td>\n",
       "    </tr>\n",
       "    <tr>\n",
       "      <th>25</th>\n",
       "      <td>6</td>\n",
       "      <td>Agadir</td>\n",
       "      <td>18</td>\n",
       "    </tr>\n",
       "    <tr>\n",
       "      <th>26</th>\n",
       "      <td>6</td>\n",
       "      <td>Casablanca</td>\n",
       "      <td>1</td>\n",
       "    </tr>\n",
       "    <tr>\n",
       "      <th>27</th>\n",
       "      <td>6</td>\n",
       "      <td>Fès</td>\n",
       "      <td>14</td>\n",
       "    </tr>\n",
       "    <tr>\n",
       "      <th>28</th>\n",
       "      <td>6</td>\n",
       "      <td>Marrakech</td>\n",
       "      <td>44</td>\n",
       "    </tr>\n",
       "    <tr>\n",
       "      <th>29</th>\n",
       "      <td>6</td>\n",
       "      <td>Rabat</td>\n",
       "      <td>25</td>\n",
       "    </tr>\n",
       "    <tr>\n",
       "      <th>30</th>\n",
       "      <td>7</td>\n",
       "      <td>Agadir</td>\n",
       "      <td>7</td>\n",
       "    </tr>\n",
       "    <tr>\n",
       "      <th>31</th>\n",
       "      <td>7</td>\n",
       "      <td>Casablanca</td>\n",
       "      <td>1</td>\n",
       "    </tr>\n",
       "    <tr>\n",
       "      <th>32</th>\n",
       "      <td>7</td>\n",
       "      <td>Fès</td>\n",
       "      <td>4</td>\n",
       "    </tr>\n",
       "    <tr>\n",
       "      <th>33</th>\n",
       "      <td>7</td>\n",
       "      <td>Marrakech</td>\n",
       "      <td>20</td>\n",
       "    </tr>\n",
       "    <tr>\n",
       "      <th>34</th>\n",
       "      <td>7</td>\n",
       "      <td>Rabat</td>\n",
       "      <td>12</td>\n",
       "    </tr>\n",
       "    <tr>\n",
       "      <th>35</th>\n",
       "      <td>8</td>\n",
       "      <td>Agadir</td>\n",
       "      <td>3</td>\n",
       "    </tr>\n",
       "    <tr>\n",
       "      <th>36</th>\n",
       "      <td>8</td>\n",
       "      <td>Casablanca</td>\n",
       "      <td>2</td>\n",
       "    </tr>\n",
       "    <tr>\n",
       "      <th>37</th>\n",
       "      <td>8</td>\n",
       "      <td>Fès</td>\n",
       "      <td>1</td>\n",
       "    </tr>\n",
       "    <tr>\n",
       "      <th>38</th>\n",
       "      <td>8</td>\n",
       "      <td>Marrakech</td>\n",
       "      <td>15</td>\n",
       "    </tr>\n",
       "    <tr>\n",
       "      <th>39</th>\n",
       "      <td>8</td>\n",
       "      <td>Rabat</td>\n",
       "      <td>2</td>\n",
       "    </tr>\n",
       "    <tr>\n",
       "      <th>40</th>\n",
       "      <td>9</td>\n",
       "      <td>Agadir</td>\n",
       "      <td>2</td>\n",
       "    </tr>\n",
       "    <tr>\n",
       "      <th>41</th>\n",
       "      <td>9</td>\n",
       "      <td>Fès</td>\n",
       "      <td>1</td>\n",
       "    </tr>\n",
       "    <tr>\n",
       "      <th>42</th>\n",
       "      <td>9</td>\n",
       "      <td>Marrakech</td>\n",
       "      <td>4</td>\n",
       "    </tr>\n",
       "    <tr>\n",
       "      <th>43</th>\n",
       "      <td>9</td>\n",
       "      <td>Rabat</td>\n",
       "      <td>1</td>\n",
       "    </tr>\n",
       "    <tr>\n",
       "      <th>44</th>\n",
       "      <td>10</td>\n",
       "      <td>Agadir</td>\n",
       "      <td>5</td>\n",
       "    </tr>\n",
       "    <tr>\n",
       "      <th>45</th>\n",
       "      <td>10</td>\n",
       "      <td>Fès</td>\n",
       "      <td>1</td>\n",
       "    </tr>\n",
       "    <tr>\n",
       "      <th>46</th>\n",
       "      <td>10</td>\n",
       "      <td>Marrakech</td>\n",
       "      <td>6</td>\n",
       "    </tr>\n",
       "    <tr>\n",
       "      <th>47</th>\n",
       "      <td>10</td>\n",
       "      <td>Rabat</td>\n",
       "      <td>2</td>\n",
       "    </tr>\n",
       "    <tr>\n",
       "      <th>48</th>\n",
       "      <td>11</td>\n",
       "      <td>Marrakech</td>\n",
       "      <td>2</td>\n",
       "    </tr>\n",
       "    <tr>\n",
       "      <th>49</th>\n",
       "      <td>11</td>\n",
       "      <td>Rabat</td>\n",
       "      <td>1</td>\n",
       "    </tr>\n",
       "    <tr>\n",
       "      <th>50</th>\n",
       "      <td>12</td>\n",
       "      <td>Agadir</td>\n",
       "      <td>1</td>\n",
       "    </tr>\n",
       "    <tr>\n",
       "      <th>51</th>\n",
       "      <td>12</td>\n",
       "      <td>Fès</td>\n",
       "      <td>1</td>\n",
       "    </tr>\n",
       "    <tr>\n",
       "      <th>52</th>\n",
       "      <td>12</td>\n",
       "      <td>Marrakech</td>\n",
       "      <td>5</td>\n",
       "    </tr>\n",
       "    <tr>\n",
       "      <th>53</th>\n",
       "      <td>13</td>\n",
       "      <td>Rabat</td>\n",
       "      <td>1</td>\n",
       "    </tr>\n",
       "    <tr>\n",
       "      <th>54</th>\n",
       "      <td>14</td>\n",
       "      <td>Marrakech</td>\n",
       "      <td>2</td>\n",
       "    </tr>\n",
       "    <tr>\n",
       "      <th>55</th>\n",
       "      <td>15</td>\n",
       "      <td>Marrakech</td>\n",
       "      <td>1</td>\n",
       "    </tr>\n",
       "    <tr>\n",
       "      <th>56</th>\n",
       "      <td>18</td>\n",
       "      <td>Agadir</td>\n",
       "      <td>1</td>\n",
       "    </tr>\n",
       "    <tr>\n",
       "      <th>57</th>\n",
       "      <td>23</td>\n",
       "      <td>Marrakech</td>\n",
       "      <td>1</td>\n",
       "    </tr>\n",
       "    <tr>\n",
       "      <th>58</th>\n",
       "      <td>36</td>\n",
       "      <td>Marrakech</td>\n",
       "      <td>1</td>\n",
       "    </tr>\n",
       "  </tbody>\n",
       "</table>\n",
       "</div>"
      ],
      "text/plain": [
       "    Nmbr of rooms        City  Rooms Count\n",
       "0               1      Agadir           52\n",
       "1               1  Casablanca           38\n",
       "2               1         Fès            7\n",
       "3               1   Marrakech           42\n",
       "4               1       Rabat           24\n",
       "5               2      Agadir          186\n",
       "6               2  Casablanca          163\n",
       "7               2         Fès          145\n",
       "8               2   Marrakech          113\n",
       "9               2       Rabat           69\n",
       "10              3      Agadir          106\n",
       "11              3  Casablanca          168\n",
       "12              3         Fès          193\n",
       "13              3   Marrakech           89\n",
       "14              3       Rabat          176\n",
       "15              4      Agadir           68\n",
       "16              4  Casablanca           54\n",
       "17              4         Fès           40\n",
       "18              4   Marrakech           91\n",
       "19              4       Rabat           93\n",
       "20              5      Agadir           38\n",
       "21              5  Casablanca           16\n",
       "22              5         Fès           12\n",
       "23              5   Marrakech           57\n",
       "24              5       Rabat           63\n",
       "25              6      Agadir           18\n",
       "26              6  Casablanca            1\n",
       "27              6         Fès           14\n",
       "28              6   Marrakech           44\n",
       "29              6       Rabat           25\n",
       "30              7      Agadir            7\n",
       "31              7  Casablanca            1\n",
       "32              7         Fès            4\n",
       "33              7   Marrakech           20\n",
       "34              7       Rabat           12\n",
       "35              8      Agadir            3\n",
       "36              8  Casablanca            2\n",
       "37              8         Fès            1\n",
       "38              8   Marrakech           15\n",
       "39              8       Rabat            2\n",
       "40              9      Agadir            2\n",
       "41              9         Fès            1\n",
       "42              9   Marrakech            4\n",
       "43              9       Rabat            1\n",
       "44             10      Agadir            5\n",
       "45             10         Fès            1\n",
       "46             10   Marrakech            6\n",
       "47             10       Rabat            2\n",
       "48             11   Marrakech            2\n",
       "49             11       Rabat            1\n",
       "50             12      Agadir            1\n",
       "51             12         Fès            1\n",
       "52             12   Marrakech            5\n",
       "53             13       Rabat            1\n",
       "54             14   Marrakech            2\n",
       "55             15   Marrakech            1\n",
       "56             18      Agadir            1\n",
       "57             23   Marrakech            1\n",
       "58             36   Marrakech            1"
      ]
     },
     "execution_count": 4,
     "metadata": {},
     "output_type": "execute_result"
    }
   ],
   "source": [
    "Rooms_City_count"
   ]
  },
  {
   "cell_type": "code",
   "execution_count": 8,
   "id": "bb90a94e",
   "metadata": {},
   "outputs": [
    {
     "data": {
      "text/plain": [
       "<AxesSubplot:xlabel='Nmbr of rooms', ylabel='Rooms Count'>"
      ]
     },
     "execution_count": 8,
     "metadata": {},
     "output_type": "execute_result"
    },
    {
     "data": {
      "image/png": "[encoded data removed]",
      "text/plain": [
       "<Figure size 864x432 with 1 Axes>"
      ]
     },
     "metadata": {
      "needs_background": "light"
     },
     "output_type": "display_data"
    }
   ],
   "source": [
    "import matplotlib\n",
    "matplotlib.rcParams['figure.figsize'] = (12,6)\n",
    "sns.barplot(x='Nmbr of rooms',y='Rooms Count',hue='City',data=Rooms_City_count,palette=['pink','blue','orange','green','red','purple'])"
   ]
  },
  {
   "cell_type": "code",
   "execution_count": null,
   "id": "94b3fc60",
   "metadata": {},
   "outputs": [],
   "source": []
  }
 ],
 "metadata": {
  "kernelspec": {
   "display_name": "Python 3 (ipykernel)",
   "language": "python",
   "name": "python3"
  },
  "language_info": {
   "codemirror_mode": {
    "name": "ipython",
    "version": 3
   },
   "file_extension": ".py",
   "mimetype": "text/x-python",
   "name": "python",
   "nbconvert_exporter": "python",
   "pygments_lexer": "ipython3",
   "version": "3.9.7"
  }
 },
 "nbformat": 4,
 "nbformat_minor": 5
}
